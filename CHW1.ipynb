{
 "cells": [
  {
   "cell_type": "markdown",
   "metadata": {
    "id": "6DjNbXa-VC9M"
   },
   "source": [
    "<h1 align=\"center\">Mathematical Methods In Engineering - 25872</h1>\n",
    "<h4 align=\"center\">Dr. Amiri</h4>\n",
    "<h4 align=\"center\">Sharif University of Technology, Fall 2023</h4>\n",
    "<h4 align=\"center\">Python Assignment 1</h4>\n",
    "<h4 align=\"center\">feel free to ask your questions via telegram,\n",
    "\n",
    "questions 1,4 : @BeNameBalasari and questions 2,3,5 : @maahmoradi"
   ]
  },
  {
   "cell_type": "markdown",
   "metadata": {},
   "source": [
    "You should write your code in the <font color='green'>Code Cell</font> and then run the <font color='green'>Evaluation Cell</font> to check the output of your code.<br>\n",
    "<font color='red'>**Please do not edit the existing codes.**</font>"
   ]
  },
  {
   "cell_type": "markdown",
   "metadata": {
    "id": "bggG3YqIVC9U"
   },
   "source": [
    "## 1. Introduction to matrices\n",
    "In this question, we want to get familiar with performing simple matrix operations and obtaining special features of matrices in Python <br>\n",
    "#### 1-1-  Vector P-Norm\n",
    " Let $p\\geq 1$  be  a real   number . The  p-norm ( also called \n",
    "$\\ell ^{p}$-norm) of  vector \n",
    "${\\displaystyle \\mathbf {x} =(x_{1},\\ldots ,x_{n})}$  is : \n",
    "${\\displaystyle \\|\\mathbf {x} \\|_{p}:=\\left(\\sum _{i=1}^{n}\\left|x_{i}\\right|^{p}\\right)^{1/p}}$ and\n",
    "${\\displaystyle \\|\\mathbf {x} \\|_{\\infty}:=max(|x_1| , |x_2| , \\cdots ,|x_n|)}$ \n",
    "> Write a function that takes a vector and p as input and gives p-norm as output then use it to calculate the norm-3 of the  following vector ( if the p is np.inf the function should give the infinity norm of the matrix ) :\n",
    "$$\n",
    "x = \\left(\\begin{array}{cc} \n",
    "-3.0\\\\ 1.0 \\\\2.0\n",
    "\\end{array}\\right)\n",
    "$$\n",
    "> then use np.linalg.norm to check your answer "
   ]
  },
  {
   "cell_type": "code",
   "execution_count": 83,
   "metadata": {},
   "outputs": [],
   "source": [
    "# import required packages\n",
    "import numpy as np\n",
    "import numpy.linalg as LA\n",
    "import matplotlib.pyplot as plt"
   ]
  },
  {
   "cell_type": "code",
   "execution_count": 7,
   "metadata": {
    "id": "ZzFnxtOIVC9W"
   },
   "outputs": [
    {
     "name": "stdout",
     "output_type": "stream",
     "text": [
      "3.3019272488946263\n",
      "3.3019272488946263\n"
     ]
    }
   ],
   "source": [
    "# Code cell\n",
    "def pnorm(x, p):\n",
    "    \n",
    "        # write your code here\n",
    "    if p == np.inf:\n",
    "        return np.max(np.abs(x))\n",
    "    else:\n",
    "        return np.power(np.sum(np.abs(x)**p), 1.0/p)\n",
    "\n",
    "X = np.array([-3.0,1.0,2.0])\n",
    "\n",
    "p_norm = pnorm(X, 3)\n",
    "la_norm = LA.norm(X, 3)\n",
    "\n",
    "print(p_norm)\n",
    "print(la_norm)"
   ]
  },
  {
   "cell_type": "markdown",
   "metadata": {},
   "source": [
    "#### 1-2- Matrix Norm\n",
    " The \n",
    " operator  norm of matrix $ \\mathbf{A}  $ is : \n",
    "${\\displaystyle \\|\\mathbf {A} \\|:=\\max\\limits_{x\\neq 0}\\left(\\frac{||Ax||}{||x||}\\right)}$\n",
    "\n",
    "and  The Frobenius  norm  is defined  so \n",
    "that   for  every  square  matrix $ \\mathbf{A} $ : ${\\displaystyle \\|\\mathbf {A} \\|_F:=\\left(\\sum_{i,j=1}^{n}(|a_{ij}|^2)\\right)^\\frac{1}{2}}$\n",
    "\n",
    "> Write a function that takes a Matrix  as input and gives frobenius norm as output then use it to calculate the norm of the  following Matrix :\n",
    "$$\n",
    "A = \\begin{bmatrix}\n",
    "    7 & 5 & 1\\\\\n",
    "    1 & 7 & 1\\\\\n",
    "    5 & 5 & 7\n",
    "\\end{bmatrix}\n",
    "$$\n",
    "> then use np.linalg.norm to check your answer and use it to calculate the operator norm of A "
   ]
  },
  {
   "cell_type": "code",
   "execution_count": 11,
   "metadata": {},
   "outputs": [
    {
     "name": "stdout",
     "output_type": "stream",
     "text": [
      "15.0\n",
      "15.0\n",
      "Operate norm\n",
      "8.660254037844387\n"
     ]
    }
   ],
   "source": [
    "# Code cell\n",
    "def fnorm(A):\n",
    "    \n",
    "        # write your code here\n",
    "        \n",
    "    return np.sqrt(np.sum(np.square(A)))\n",
    "\n",
    "A = np.array([[7, 5, 1],\n",
    "              [1, 7, 1],\n",
    "              [5, 5, 7]])\n",
    "\n",
    "f_norm = fnorm(A)\n",
    "\n",
    "print(f_norm)\n",
    "print(LA.norm(A, 'fro'))\n",
    "print('Operate norm')\n",
    "print(f_norm/np.sqrt(A.shape[1]))"
   ]
  },
  {
   "cell_type": "markdown",
   "metadata": {},
   "source": [
    "#### 1-3- Matrix Determinant And Matrix inverse \n",
    "Laplace expansion expresses the determinant of a matrix \n",
    "A recursively in terms of determinants of smaller matrices, known as its minors. The minor \n",
    ", $M_{i,j}$ is defined to be the determinant of the \n",
    "${\\displaystyle (n-1)\\times (n-1)}$ matrix that results from \n",
    "A by removing the \n",
    "i-th row and the \n",
    "j-th column. The expression \n",
    "${\\displaystyle (-1)^{i+j}M_{i,j}}$  is known as a cofactor. For every \n",
    "i, one has the equality :\n",
    "$$\n",
    "det(\\mathbf{A})=\\sum_{j=1}^n\\left((-1)^{i+j}a_{ij}M_{ij}\\right)\n",
    "$$\n",
    "> Write a function that takes a Matrix  as input and gives Determinant as output then use it to calculate the Determinant of the  following Matrix :\n",
    "$$\n",
    "A = \\begin{bmatrix}\n",
    "    7 & 5 & 1\\\\\n",
    "    1 & 7 & 1\\\\\n",
    "    5 & 5 & 7\n",
    "\\end{bmatrix}\n",
    "$$\n",
    "> then use np.linalg.det to check your answer "
   ]
  },
  {
   "cell_type": "code",
   "execution_count": 77,
   "metadata": {},
   "outputs": [
    {
     "name": "stdout",
     "output_type": "stream",
     "text": [
      "Determinant check (using np.linalg.det): 267.99999999999994\n",
      "Determinant of the matrix: 268\n"
     ]
    }
   ],
   "source": [
    "# Code cell\n",
    "def det(A):\n",
    "    \n",
    "        # write your code here\n",
    "    if len(A) == 1:\n",
    "        return A[0][0]\n",
    "    else:\n",
    "        temp = 0\n",
    "        for i in range(len(A)):\n",
    "            minor = [row[:i] + row[i+1:] for row in A[1:]]\n",
    "            temp += (-1)**i * A[0][i] * det(minor)\n",
    "        return temp\n",
    "\n",
    "matrix = [[7, 5, 1],\n",
    "         [1, 7, 1],\n",
    "         [5, 5, 7]]\n",
    "\n",
    "det_a = det(matrix)\n",
    "det_check = LA.det(matrix)\n",
    "\n",
    "print(\"Determinant check (using np.linalg.det):\", det_check)\n",
    "print(\"Determinant of the matrix:\", det_a)"
   ]
  },
  {
   "cell_type": "markdown",
   "metadata": {},
   "source": [
    "The inverse of a Matrix is defined as : \n",
    "$$\n",
    "\\mathbf{A}^{-1}=\\frac{adj(A)}{det(A)}\n",
    "$$\n",
    "The adjugate of $\\mathbf{A} \\ adj(\\mathbf{A})$ is the transpose of $\\mathbf{C}$, that is, the n × n matrix whose (i, j) entry is the (j, i) cofactor of A,\n",
    "$$\n",
    "adj(\\mathbf{A})=\\mathbf{C}^T=\\left((-1)^{i+j}M_{ji}\\right)_{1 \\leq i,j \\leq n}\n",
    "$$\n",
    "> Write a function that takes a Matrix  as input and gives inverse of Matrix as output then use it to calculate the inverse of the  following Matrix :\n",
    "$$\n",
    "A = \\begin{bmatrix}\n",
    "    7 & 5 & 1\\\\\n",
    "    1 & 7 & 1\\\\\n",
    "    5 & 5 & 7\n",
    "\\end{bmatrix}\n",
    "$$\n",
    "> then use np.linalg.inv to check your answer "
   ]
  },
  {
   "cell_type": "code",
   "execution_count": 79,
   "metadata": {},
   "outputs": [
    {
     "name": "stdout",
     "output_type": "stream",
     "text": [
      "[[ 0.1641791  -0.1119403  -0.00746269]\n",
      " [-0.00746269  0.1641791  -0.02238806]\n",
      " [-0.1119403  -0.03731343  0.1641791 ]]\n",
      "[[ 0.1641791  -0.1119403  -0.00746269]\n",
      " [-0.00746269  0.1641791  -0.02238806]\n",
      " [-0.1119403  -0.03731343  0.1641791 ]]\n"
     ]
    }
   ],
   "source": [
    "# Code cell\n",
    "def inv(matrix):\n",
    "    A = matrix\n",
    "    det1 = LA.det(A)\n",
    "    (a ,b) = A.shape\n",
    "    adj=np.zeros((a ,b))\n",
    "    for i in range(a):\n",
    "        for j in range(b):\n",
    "            rows = np.ones(a,dtype=bool)\n",
    "            rows[i] = False\n",
    "            cols = np.ones(b,dtype=bool)\n",
    "            cols[j] = False\n",
    "            adj[i, j] = (-1)**(i+j)*LA.det(A[rows , :][: , cols])\n",
    "    return adj.T * (1/det1)\n",
    "\n",
    "A = np.array([[7, 5, 1],[1, 7, 1],[5, 5, 7]])\n",
    "\n",
    "# Calculate the inverse of the matrix.\n",
    "inv_A = inv(A)\n",
    "print(inv_A)\n",
    "print(LA.inv(A))"
   ]
  },
  {
   "cell_type": "markdown",
   "metadata": {},
   "source": [
    "## 2. Gauss-Jordan elimination\n",
    "#### 2-1-  Implementation\n",
    "The Gauss-Jordan Elimination method is an algorithm to solve a linear system of equations. This method solves the system by representing it as an augmented matrix, reducing it using row operations, and expressing the system in reduced row-echelon form to find the values of the variables. \\\n",
    "The function gauss_jordan_elimination takes two arguments: the matrix A representing the coefficients of the equations, and the vector b representing the constants on the right-hand side of the equations. It sets flag to 1 and returns the solution vector x if exists, else sets flag to 0 in case of 'No Solution' or 'Infinite Solutions' and prints the corresponding case.\n",
    "\n",
    "Here's an example of a system of equations $\\textbf{Ax = b}$\n",
    "\n",
    "the inputs of the function :\n",
    "\n",
    "$$\n",
    "A = \\begin{bmatrix}\n",
    "    2  & 1  & 5 \\\\\n",
    "    4  & 4  & -4 \\\\\n",
    "    1 & 3 & 1 \n",
    "\\end{bmatrix}\n",
    "$$\n",
    "\n",
    "$$\n",
    "b = \\begin{bmatrix}\n",
    "    8  \\\\\n",
    "    4  \\\\\n",
    "    5 \n",
    "\\end{bmatrix}\n",
    "$$\n",
    "\n",
    "the corresponding output :\n",
    "\n",
    "$$\n",
    "x = \\begin{bmatrix}\n",
    "    1  \\\\\n",
    "    1  \\\\\n",
    "    1 \n",
    "\\end{bmatrix}\n",
    "$$"
   ]
  },
  {
   "cell_type": "code",
   "execution_count": 25,
   "metadata": {},
   "outputs": [],
   "source": [
    "# import required packages\n",
    "import numpy as np\n",
    "import time"
   ]
  },
  {
   "cell_type": "code",
   "execution_count": 80,
   "metadata": {},
   "outputs": [
    {
     "data": {
      "text/plain": [
       "(array([1., 1., 1.]), 1)"
      ]
     },
     "execution_count": 80,
     "metadata": {},
     "output_type": "execute_result"
    }
   ],
   "source": [
    "# Code cell\n",
    "def gauss_jordan_elimination(A, b):\n",
    "    \n",
    "    # write your code here\n",
    "    A = A.astype('float64')\n",
    "    b = b.astype('float64')\n",
    "    # Combine matrix A and vector b into a single augmented matrix\n",
    "    M = np.column_stack((A, b))\n",
    "    \n",
    "    # Apply Gauss-Jordan elimination\n",
    "    for i in range(M.shape[0]):\n",
    "        # Find the row with the largest absolute value in the current column\n",
    "        max_row = np.argmax(np.abs(M[i:, i])) + i\n",
    "        \n",
    "        # Swap the current row with the row with the largest absolute value\n",
    "        M[[i, max_row]] = M[[max_row, i]]\n",
    "        \n",
    "        # Normalize the current row\n",
    "        M[i] /= M[i, i]\n",
    "        \n",
    "        # Eliminate the current column in all other rows\n",
    "        for j in range(M.shape[0]):\n",
    "            if i != j:\n",
    "                M[j] -= M[j, i] * M[i]\n",
    "    \n",
    "    # Check if the system has a unique solution\n",
    "    if np.all(M[:, :-1] == np.eye(M.shape[0])):\n",
    "        x = M[:, -1]\n",
    "        flag = 1\n",
    "    else:\n",
    "        # Check if the system has no solution\n",
    "        if np.any(np.all(M[:, :-1] == 0, axis=1) & (M[:, -1] != 0)):\n",
    "            flag = 0\n",
    "            print(\"No solution exists.\")\n",
    "        # Otherwise, the system has infinite solutions\n",
    "        else:\n",
    "            flag = 0\n",
    "            print(\"Infinite solutions exist.\")\n",
    "    \n",
    "    return x, flag\n",
    "\n",
    "\n",
    "A=np.array([[2,1,5],[4,4,-4],[1,3,1]],dtype=float)\n",
    "b=np.array([8,4,5],dtype=float)\n",
    "gauss_jordan_elimination(A, b)"
   ]
  },
  {
   "cell_type": "code",
   "execution_count": 81,
   "metadata": {},
   "outputs": [
    {
     "name": "stdout",
     "output_type": "stream",
     "text": [
      "status: successful, time elapsed: 0.0 seconds\n"
     ]
    },
    {
     "ename": "AssertionError",
     "evalue": "flag's not set correctly",
     "output_type": "error",
     "traceback": [
      "\u001b[1;31m---------------------------------------------------------------------------\u001b[0m",
      "\u001b[1;31mAssertionError\u001b[0m                            Traceback (most recent call last)",
      "\u001b[1;32m~\\AppData\\Local\\Temp\\ipykernel_13552\\1795011072.py\u001b[0m in \u001b[0;36m<module>\u001b[1;34m\u001b[0m\n\u001b[0;32m     21\u001b[0m \u001b[0melapsed\u001b[0m \u001b[1;33m=\u001b[0m \u001b[0mtime\u001b[0m\u001b[1;33m.\u001b[0m\u001b[0mtime\u001b[0m\u001b[1;33m(\u001b[0m\u001b[1;33m)\u001b[0m \u001b[1;33m-\u001b[0m \u001b[0ms\u001b[0m\u001b[1;33m\u001b[0m\u001b[1;33m\u001b[0m\u001b[0m\n\u001b[0;32m     22\u001b[0m \u001b[0mx\u001b[0m\u001b[1;33m,\u001b[0m \u001b[0mflag\u001b[0m \u001b[1;33m=\u001b[0m \u001b[0mgauss_jordan_elimination\u001b[0m\u001b[1;33m(\u001b[0m\u001b[0mA\u001b[0m\u001b[1;33m,\u001b[0m\u001b[0mb\u001b[0m\u001b[1;33m)\u001b[0m\u001b[1;33m\u001b[0m\u001b[1;33m\u001b[0m\u001b[0m\n\u001b[1;32m---> 23\u001b[1;33m \u001b[1;32massert\u001b[0m \u001b[0mflag\u001b[0m \u001b[1;33m==\u001b[0m \u001b[1;36m0\u001b[0m\u001b[1;33m,\u001b[0m \u001b[1;34m\"flag's not set correctly\"\u001b[0m\u001b[1;33m\u001b[0m\u001b[1;33m\u001b[0m\u001b[0m\n\u001b[0m\u001b[0;32m     24\u001b[0m \u001b[0mprint\u001b[0m\u001b[1;33m(\u001b[0m\u001b[1;34mf'status: successful, time elapsed: {np.round(elapsed, 5)} seconds'\u001b[0m\u001b[1;33m)\u001b[0m\u001b[1;33m\u001b[0m\u001b[1;33m\u001b[0m\u001b[0m\n",
      "\u001b[1;31mAssertionError\u001b[0m: flag's not set correctly"
     ]
    }
   ],
   "source": [
    "# Evaluation Cell\n",
    "n = 10\n",
    "A = np.zeros((10,10))\n",
    "b = np.random.randint(100, size=(10))\n",
    "while np.linalg.matrix_rank(A) != n: \n",
    "    A = np.random.randint(0,100,(n, n))\n",
    "s = time.time()\n",
    "elapsed = time.time() - s\n",
    "x, flag = gauss_jordan_elimination(A,b)\n",
    "assert flag == 1, \"flag's not set correctly\"\n",
    "assert np.linalg.norm(A @ x - b) < 1e-7, \"Ax = b is not satisfied\"\n",
    "print(f'status: successful, time elapsed: {np.round(elapsed, 5)} seconds')\n",
    "b = np.random.randint(100, size=(10))\n",
    "A = np.random.randint(0, 100, (n, n))\n",
    "U, S, V = np.linalg.svd(A)\n",
    "r = 9  \n",
    "S[r:] = 0 \n",
    "A = U.dot(np.diag(S)).dot(V)\n",
    "b = np.random.randint(100, size=(10))\n",
    "s = time.time()\n",
    "elapsed = time.time() - s\n",
    "x, flag = gauss_jordan_elimination(A,b)\n",
    "assert flag == 0, \"flag's not set correctly\"\n",
    "print(f'status: successful, time elapsed: {np.round(elapsed, 5)} seconds')"
   ]
  },
  {
   "cell_type": "markdown",
   "metadata": {},
   "source": [
    "## 3. Statistics on random matrices\n",
    "\n",
    "On average, a random matrix is invertible. But what if the random matrix has entries that are either 0 or 1 with equal probability? What is the probability that a 5 by 5 matrix whose entries are all zeros or ones is singular? And what is the average number of pivot columns? That is what you will find out in this exercise.\n",
    "\n",
    "Create random integer matrices whose entries are either 0 or 1. To find the number of pivot columns of a matrix A, complete the function getrank below.\n"
   ]
  },
  {
   "cell_type": "code",
   "execution_count": 67,
   "metadata": {},
   "outputs": [
    {
     "name": "stdout",
     "output_type": "stream",
     "text": [
      "3\n"
     ]
    },
    {
     "data": {
      "text/plain": [
       "3"
      ]
     },
     "execution_count": 67,
     "metadata": {},
     "output_type": "execute_result"
    }
   ],
   "source": [
    "# Code cell\n",
    "def getrank(A):\n",
    "\n",
    "    # write your code here\n",
    "    matrix = A\n",
    "    for pivot_row in range(len(matrix)):\n",
    "        # Find the pivot element in the current pivot column\n",
    "        pivot_column = pivot_row\n",
    "        for row in range(pivot_row + 1, len(matrix)):\n",
    "            if abs(matrix[row][pivot_column]) > abs(matrix[pivot_row][pivot_column]):\n",
    "                pivot_row, row = row, pivot_row\n",
    "\n",
    "        # Swap the rows if necessary\n",
    "        if pivot_row != pivot_column:\n",
    "            matrix[pivot_row], matrix[pivot_column] = matrix[pivot_column], matrix[pivot_row]\n",
    "\n",
    "        # Eliminate non-zero elements below the pivot element in the pivot column\n",
    "        for row in range(pivot_row + 1, len(matrix)):\n",
    "            if matrix[pivot_row][pivot_column] != 0:\n",
    "                multiplier = -matrix[row][pivot_column] / matrix[pivot_row][pivot_column]\n",
    "                for col in range(pivot_column, len(matrix[0])):\n",
    "                    matrix[row][col] += multiplier * matrix[pivot_row][col]\n",
    "\n",
    "    # Count the non-zero rows (equivalent to the number of leading non-zero entries)\n",
    "    rank = 0\n",
    "    for row in matrix:\n",
    "        if any(element != 0 for element in row):\n",
    "            rank += 1\n",
    "    \n",
    "    return rank\n",
    "A=np.array([[1,0,0],[0,1,0],[0,0,1]])\n",
    "print(getrank(A))\n",
    "np.linalg.matrix_rank(A)"
   ]
  },
  {
   "cell_type": "code",
   "execution_count": 69,
   "metadata": {},
   "outputs": [
    {
     "name": "stdout",
     "output_type": "stream",
     "text": [
      "[ 4.3, 0.6]\n"
     ]
    }
   ],
   "source": [
    "# Code cell\n",
    "\n",
    "num = 100000;  # Number of random trials \n",
    "n = 5  # Size of matrix\n",
    "\n",
    "\n",
    "# (avg number of pivots, probability of being singular)\n",
    "# in the format [a.b,c.d] where you rounded the answer to one decimal place.\n",
    "\n",
    "# write your code here\n",
    "A=np.zeros((n,n))\n",
    "rank_sum = 0\n",
    "singular_sum = 0\n",
    "for i in range(num):\n",
    "    A = np.random.randint(0,2,(n, n))\n",
    "    temp = getrank(A)\n",
    "    rank_sum += temp\n",
    "    if temp != n:\n",
    "        singular_sum += 1\n",
    "\n",
    "rank_avg = rank_sum / num\n",
    "singular_avg = 1- singular_sum / num\n",
    "print(f\"[{rank_avg : .1f},{singular_avg : .1f}]\")"
   ]
  },
  {
   "cell_type": "markdown",
   "metadata": {},
   "source": [
    "We've looked at random matrices whose entries are 0 or 1. But how does size effect the rank and the probability of being singular? Repeat the previous exercise for 10 by 10 matrices with entries that are 0 or 1.\n",
    "\n",
    "Explore and plot the probability of singularity and the average number of pivots for different sizes of random matrices. Can you determine how this probability depends on the size of the matrix? You might try to find the probability of a 10 by 10 random matrix with entries 0 or 1 has rank 10, 9, 8, 7 etc. You can check your probabilities against the expected value to see if your probabilities match your observations. You might try to connect these probabilities with determinant formulas to see if you can predict the numbers from other formulas and prove a relationship. Happy explorations!\n",
    "\n",
    " guess what happens as $n \\rightarrow \\infty $\n",
    ", but only run up to 80"
   ]
  },
  {
   "cell_type": "code",
   "execution_count": 86,
   "metadata": {},
   "outputs": [
    {
     "data": {
      "image/png": "[encoded data removed]",
      "text/plain": [
       "<Figure size 640x480 with 1 Axes>"
      ]
     },
     "metadata": {},
     "output_type": "display_data"
    },
    {
     "data": {
      "image/png": "[encoded data removed]",
      "text/plain": [
       "<Figure size 640x480 with 1 Axes>"
      ]
     },
     "metadata": {},
     "output_type": "display_data"
    }
   ],
   "source": [
    "# Code cell\n",
    "\n",
    "nvalues = [5,10,20,40,80]\n",
    "num = 500\n",
    "# write your code here\n",
    "values = np.asanyarray(nvalues)\n",
    "A = np.zeros((n,n))\n",
    "rank_sum = np.zeros(values.shape[0])\n",
    "singular_sum = np.zeros(values.shape[0])\n",
    "for n in nvalues :\n",
    "    for i in range(num):\n",
    "        A = np.random.randint(0,2,(n, n))\n",
    "        temp = getrank(A)\n",
    "        rank_sum[np.where(values==n)] += temp\n",
    "        if temp != n:\n",
    "            singular_sum[np.where(values==n)] += 1\n",
    "\n",
    "rank_avg = rank_sum / num\n",
    "singular_avg = singular_sum / num\n",
    "plt.plot(values,rank_avg)\n",
    "plt.xlabel(\"n\")\n",
    "plt.ylabel(\"average\")\n",
    "plt.show()\n",
    "plt.plot(values,singular_avg)\n",
    "plt.xlabel(\"n\")\n",
    "plt.ylabel(\"probability\")\n",
    "plt.show()"
   ]
  },
  {
   "cell_type": "markdown",
   "metadata": {},
   "source": [
    "## 4. Application of Cholesky decomposition\n",
    "#### 4-1-  Cholesky decomposition\n",
    "In linear algebra, LU decomposition factors a matrix ($\\textbf{A} :n \\times n$) as the product of a lower triangular matrix ($\\textbf{L} :n \\times n$) and an upper triangular matrix ($\\textbf{U} :n \\times n$). The product sometimes includes a permutation matrix ($\\textbf{P} :n \\times n$) as well.\n",
    "$$ \\textbf{PA} = \\textbf{LU} $$\n",
    "We know that the elements on the main diagonal of the $\\textbf{U}$ are the pivots. So $\\textbf{U}$ can be decomposed into a diagonal matrix ($\\textbf{D} :n \\times n$) with elements whose pivots are on the main diagonal and a normalized $\\textbf{U}$ matrix.\n",
    "$$ \\textbf{PA} = \\textbf{LDU}  $$\n",
    "if the A is symmetric then we have the Cholesky decomposition :\n",
    "$$\n",
    "\\mathbf{A}^T=\\mathbf{A} \\longrightarrow \\mathbf{A} =LD^\\frac{1}{2}D^\\frac{1}{2} L^T= (LD^\\frac{1}{2})(LD^\\frac{1}{2})^T=L'{L'} ^T\n",
    "$$\n",
    "There are various methods for calculating the Cholesky decomposition one of them is $\\bold{Cholesky–Banachiewicz}$ algorithm :\n",
    "$$\n",
    "A=LL^T=\\begin{bmatrix}\n",
    "    L_{11}& 0 & 0\\\\\n",
    "    L_{21} & L_{22} & 0\\\\\n",
    "    L_{31}  & L_{32}  & L_{33} \n",
    "\\end{bmatrix}\\begin{bmatrix}\n",
    "    L_{11}  & L_{21}  & L_{31} \\\\\n",
    "    0  & L_{22}  & L_{32} \\\\\n",
    "    0 & 0 & L_{33} \n",
    "\\end{bmatrix}=\\begin{bmatrix}\n",
    "    L_{11}^2  &   & (symmetric) \\\\\n",
    "    L_{21}L_{11}  & L_{21}^2+L_{22}^2  &  \\\\\n",
    "    L_{31}L_{11}& L_{31}L_{21}+L_{32}L_{22}& L_{33}^2+L_{32}^2+L_{31}^2 \n",
    "\\end{bmatrix}\n",
    "$$\n",
    "\n",
    "and therefore the following formulas for the entries of L:\n",
    "\n",
    "$$\n",
    "L_{jj}=\\sqrt{A_{jj}-\\sum_{k=1}^{j-1}L_{jk}^2} \\\\\n",
    "\\\\\n",
    "L_{i,j}=\\frac{\\left(A_{ij}-\\sum_{k=1}^{j-1}L_{jk}L_{ik}\\right)}{L_{jj}} \\  \\ for \\ \\ i>j\n",
    "$$\n",
    "\n",
    "> Use this algorithm to write a function that takes a matrix and gives its cholesky decomposition. also print the output for the following matrix :\n",
    "$$\n",
    "\\mathbf{C}=\n",
    "\\begin{bmatrix}\n",
    "    1 & 0.7 \\\\\n",
    "    0.7 & 1\n",
    "\\end{bmatrix}\n",
    "$$ \n",
    "\n",
    "\n",
    "> then use np.linalg.cholesky to check your answer "
   ]
  },
  {
   "cell_type": "code",
   "execution_count": 95,
   "metadata": {},
   "outputs": [
    {
     "name": "stdout",
     "output_type": "stream",
     "text": [
      "[[1.         0.        ]\n",
      " [0.7        0.71414284]]\n",
      "[[1.         0.        ]\n",
      " [0.7        0.71414284]]\n"
     ]
    }
   ],
   "source": [
    "# Code cell\n",
    "def Cholesky(A):\n",
    "    \n",
    "    # write your code here\n",
    "    L = np.zeros(A.shape)\n",
    "    for i in range(A.shape[0]):\n",
    "        for j in range(A.shape[0]):\n",
    "            if i==j:\n",
    "                a = np.sum(L[i,:j]**2)\n",
    "                L[i,j] = np.sqrt(A[i,j]-a)\n",
    "            if i>j:\n",
    "                L[i,j]=(A[i,j]-sum(L[j,:j]*L[i,0:j]))/L[j,j]\n",
    "            \n",
    "    return L\n",
    "matrix = np.array([[1, 0.7], [0.7, 1]])\n",
    "\n",
    "L = Cholesky(matrix)\n",
    "\n",
    "print(L)\n",
    "\n",
    "L_numpy = LA.cholesky(matrix)\n",
    "\n",
    "print(L_numpy)"
   ]
  },
  {
   "cell_type": "markdown",
   "metadata": {},
   "source": [
    "#### 4-2-  Using Cholesky to generate correlated random numbers\n",
    "\n",
    "The co-variance Matrix of any random vector Y\n",
    " is given as $\\mathbf{E}(YY^T)$\n",
    ", where Y\n",
    " is a random column vector of size n×1\n",
    ". Now take a random vector, X\n",
    ", consisting of uncorrelated random variables with each random variable, $X_i$\n",
    ", having zero mean and unit variance 1\n",
    ". Since $X_i$\n",
    "'s are uncorrelated random variables with zero mean and unit variance, we have $\\mathbf{E}(X_i X_j^T)=δ_{ij}$\n",
    ". Hence,\n",
    "$$\n",
    "\\mathbf{E}(XX^T)=I\n",
    "$$\n",
    "To generate a random vector with a given covariance matrix $\\mathbf{C}$\n",
    ", look at the Cholesky decomposition of $C$\n",
    " i.e. $\\mathbf{C}=LL^T$\n",
    " \n",
    "Now look at the random vector $Z=LX$ :\n",
    "$$\n",
    "\\mathbf{E}(ZZ^T)=\\mathbf{E}\\left((LX)(LX)^T\\right)=L\\mathbf{E}(XX^T)L^T =LL^T=\\mathbf{C}\n",
    "$$\n",
    "Hence, the random vector $\\mathbf{Z}$\n",
    " has the desired co-variance matrix, $\\mathbf{C}$\n",
    "\n",
    " >Make the covarience matirx of $C$\n",
    "  $$\n",
    "\\mathbf{C}=\n",
    "\\begin{bmatrix}\n",
    "    1 & 0.7 \\\\\n",
    "    0.7 & 1\n",
    "\\end{bmatrix}\n",
    "$$ \n",
    "\n",
    " \n",
    " >Then we need another matrix with the desired standard deviation in the diagonal  $\\Tau$\n",
    " $$\n",
    "\\mathbf{\\Tau}=\n",
    "\\begin{bmatrix}\n",
    "    1 & 0 \\\\\n",
    "    0 & 2\n",
    "\\end{bmatrix}\n",
    "$$ \n",
    ">Then find the cholesky decomposition of $C$\n"
   ]
  },
  {
   "cell_type": "code",
   "execution_count": 96,
   "metadata": {},
   "outputs": [
    {
     "name": "stdout",
     "output_type": "stream",
     "text": [
      "[[1.         0.        ]\n",
      " [0.7        0.71414284]]\n"
     ]
    }
   ],
   "source": [
    "# Code cell\n",
    "C = np.array([[1, 0.7], [0.7, 1]])\n",
    "L = Cholesky(matrix)\n",
    "print(L)\n",
    "Tau = np.array([[1, 0], [0, 2]])"
   ]
  },
  {
   "cell_type": "markdown",
   "metadata": {},
   "source": [
    ">Now  generate values for 2 independent random variables and put them in  2*1000 matrix $X$ (1000 samples)\n",
    "\n",
    "you can use np.random.normal ( generates iid random variables each time )"
   ]
  },
  {
   "cell_type": "code",
   "execution_count": 97,
   "metadata": {},
   "outputs": [],
   "source": [
    "# Code cell\n",
    "rand1 = np.random.normal(0,1,1000)\n",
    "rand2 = np.random.normal(0,1,1000)\n",
    "rand = np.array([rand1,rand2])"
   ]
  },
  {
   "cell_type": "markdown",
   "metadata": {},
   "source": [
    ">then calculate $\\mathbf{Z}=\\Tau L X$ and then plot Z[1] in base of Z[0] and X[1] in base of X[0] "
   ]
  },
  {
   "cell_type": "code",
   "execution_count": null,
   "metadata": {},
   "outputs": [],
   "source": [
    "# Code cell\n",
    "Z = Tau @ L @ rand\n",
    "plt.scatter(Z[0],Z[1])\n",
    "plt.xlabel(\"Z[0]\")\n",
    "plt.ylabel(\"Z[1]\")\n",
    "plt.title(\"correlared\")\n",
    "plt.show()\n",
    "plt.scatter(X[0],X[1])\n",
    "plt.xlabel(\"X[0]\")\n",
    "plt.ylabel(\"X[1]\")\n",
    "plt.title(\"uncorrelared\")\n",
    "plt.show()"
   ]
  },
  {
   "cell_type": "markdown",
   "metadata": {},
   "source": [
    ">now  check the correlation in generated samples with using np.correlate"
   ]
  },
  {
   "cell_type": "code",
   "execution_count": null,
   "metadata": {},
   "outputs": [],
   "source": [
    "# Code cell"
   ]
  },
  {
   "cell_type": "markdown",
   "metadata": {},
   "source": [
    "## 5. Graphs (bonus)\n",
    "\n",
    "I suggest running this question's code cells in google colab to install the $\\textbf{PyGSP}$ package by  simply running the following code cell"
   ]
  },
  {
   "cell_type": "code",
   "execution_count": 1,
   "metadata": {},
   "outputs": [
    {
     "name": "stdout",
     "output_type": "stream",
     "text": [
      "Collecting pygsp\n",
      "  Downloading PyGSP-0.5.1-py2.py3-none-any.whl (1.8 MB)\n",
      "     ---------------------------------------- 1.8/1.8 MB 1.5 MB/s eta 0:00:00\n",
      "Requirement already satisfied: numpy in c:\\users\\microsoft\\anaconda3\\lib\\site-packages (from pygsp) (1.21.5)\n",
      "Requirement already satisfied: scipy in c:\\users\\microsoft\\anaconda3\\lib\\site-packages (from pygsp) (1.9.1)\n",
      "Installing collected packages: pygsp\n",
      "Successfully installed pygsp-0.5.1\n"
     ]
    }
   ],
   "source": [
    "!pip install pygsp"
   ]
  },
  {
   "cell_type": "markdown",
   "metadata": {},
   "source": [
    "\n",
    "<!-- ![]( graph.png) -->\n",
    "<div style=\"text-align:center\">\n",
    "    <img src=\"graph.png\" alt=\"Image\" />\n",
    "</div> \n",
    "\n",
    "\n",
    "For the directed graph above the adjacency matrix is : \n",
    "$\n",
    "A = \\begin{bmatrix}\n",
    "    0  & 1  & 1 & 0\\\\\n",
    "    -1  & 0  & 1 & 1 \\\\\n",
    "    -1 & -1 & 0 & 1 \\\\\n",
    "    0  & -1  & -1 & 0\n",
    "\\end{bmatrix}\n",
    "$ \n",
    "\n",
    "If we change the nodes numbering, the properties of the graph don't change yet the adjacency matrix changes. \n"
   ]
  },
  {
   "cell_type": "code",
   "execution_count": null,
   "metadata": {},
   "outputs": [],
   "source": [
    "# import required packages\n",
    "import numpy as np\n",
    "import matplotlib.pyplot as plt\n",
    "from pygsp import graphs, filters, plotting\n",
    "import cv2"
   ]
  },
  {
   "cell_type": "markdown",
   "metadata": {},
   "source": [
    "\n",
    "#### 5-1-  Introduction to graphs \n",
    ">construct the permutation matrix $\\textbf{P}$ by modifying the Identity matrix. then use it to number the graph's nodes in reverse order"
   ]
  },
  {
   "cell_type": "code",
   "execution_count": null,
   "metadata": {},
   "outputs": [],
   "source": [
    "# Code cell\n",
    "\n",
    "A_modified = ..."
   ]
  },
  {
   "cell_type": "code",
   "execution_count": null,
   "metadata": {},
   "outputs": [],
   "source": [
    "# Evaluation Cell\n",
    "assert A_modified == np.matrix('0 -1 -1 0; 1 0 -1 -1; 1 1 0 -1; 0 1 1 0'), \"wrong!\""
   ]
  },
  {
   "cell_type": "markdown",
   "metadata": {},
   "source": [
    "#### 5-2-  Graph image processing  \n",
    "\n",
    "Inpainting is a classical signal processing problem where we wish to fill in the missing values in a\n",
    "partially observed signal. This is here done in the context of image processing for inferring missing pixel values in\n",
    "an image. The signal in the image is considered to be the image matrix flattened while the image is modeled as a 2D grid graph.\n",
    "Inpainting for an image can be formulated as below:\n",
    "\n",
    "$$(M + \\alpha L)x = y$$\n",
    "\n",
    "where y is a partially observed graph signal (with missing values being 0), and M is a diagonal matrix that satisfies:\n",
    " $$ M(i, i)=   \\left\\{\n",
    "\\begin{array}{ll}\n",
    "      1, & if & y(i) & is & observed, \\\\\n",
    "      0, & if & y(i) & is & not & observed, \\\\\n",
    "\\end{array} \n",
    "\\right.  $$\n",
    "\n",
    "The Equation tries to find an x that nearly matches the observed values in y, and at the same time\n",
    "being smooth on the graph (the image here). The regularisation parameter α controls the trade-off between the data fidelity term and the\n",
    "smoothness prior. The solution can therefore be considered as an inpainted version of the partially observed signal."
   ]
  },
  {
   "cell_type": "markdown",
   "metadata": {},
   "source": [
    ">Use the cv2 package to load a grayscale version of the cameraman image with a relatively low resolution, 64 by 64, then display the image using matplotlib.pyplot\n",
    "\n",
    "- do not forget to convert RGB to gray to reduce the 3 color channels to one"
   ]
  },
  {
   "cell_type": "code",
   "execution_count": null,
   "metadata": {},
   "outputs": [],
   "source": [
    "# Code cell"
   ]
  },
  {
   "cell_type": "markdown",
   "metadata": {},
   "source": [
    ">Now flatten the image matrix to get the signal\\\n",
    ">Then, construct the diagonal matrix M which has its diagonal 0 except for $p = 50%$ of its elements that are randomly set to 1\\\n",
    ">At last, apply the observasion matrix M to the signal and construct y "
   ]
  },
  {
   "cell_type": "code",
   "execution_count": null,
   "metadata": {},
   "outputs": [],
   "source": [
    "# Code cell"
   ]
  },
  {
   "cell_type": "code",
   "execution_count": null,
   "metadata": {},
   "outputs": [],
   "source": [
    "# do not edit this cell \n",
    "G = graphs.Grid2d(64,64)\n",
    "L = G.L"
   ]
  },
  {
   "cell_type": "markdown",
   "metadata": {},
   "source": [
    ">To get x, apply the $\\textbf{Cholesky decomposition}$ to ( $M+\\alpha L$ ) and then solve the stated equation applying np.linalg.inv() to the two terms multiplied by x ( note that L is given by the code cell above )\n",
    "- check the soloution with \"np.linalg.solve()\""
   ]
  },
  {
   "cell_type": "code",
   "execution_count": null,
   "metadata": {},
   "outputs": [],
   "source": [
    "# Code cell"
   ]
  },
  {
   "cell_type": "markdown",
   "metadata": {},
   "source": [
    ">For values of alpha 0.001 , 0.1 , 10 and p values 50 , 75 display the original, the damaged and the Inpainted image in subplots"
   ]
  },
  {
   "cell_type": "code",
   "execution_count": null,
   "metadata": {},
   "outputs": [],
   "source": [
    "# Code cell"
   ]
  }
 ],
 "metadata": {
  "colab": {
   "provenance": []
  },
  "kernelspec": {
   "display_name": "Python 3 (ipykernel)",
   "language": "python",
   "name": "python3"
  },
  "language_info": {
   "codemirror_mode": {
    "name": "ipython",
    "version": 3
   },
   "file_extension": ".py",
   "mimetype": "text/x-python",
   "name": "python",
   "nbconvert_exporter": "python",
   "pygments_lexer": "ipython3",
   "version": "3.9.13"
  },
  "vscode": {
   "interpreter": {
    "hash": "a552c2ea7a7b6736ba4a8b66efcb40eda8d77c5e9d980e5b81f29aecaaefb085"
   }
  }
 },
 "nbformat": 4,
 "nbformat_minor": 1
}
